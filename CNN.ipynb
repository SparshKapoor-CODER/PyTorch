{
  "nbformat": 4,
  "nbformat_minor": 0,
  "metadata": {
    "colab": {
      "provenance": [],
      "gpuType": "T4",
      "authorship_tag": "ABX9TyMUAK0sPuXJHlt+Kvr895CG",
      "include_colab_link": true
    },
    "kernelspec": {
      "name": "python3",
      "display_name": "Python 3"
    },
    "language_info": {
      "name": "python"
    },
    "accelerator": "GPU"
  },
  "cells": [
    {
      "cell_type": "markdown",
      "metadata": {
        "id": "view-in-github",
        "colab_type": "text"
      },
      "source": [
        "<a href=\"https://colab.research.google.com/github/SparshKapoor-CODER/PyTorch/blob/main/CNN.ipynb\" target=\"_parent\"><img src=\"https://colab.research.google.com/assets/colab-badge.svg\" alt=\"Open In Colab\"/></a>"
      ]
    },
    {
      "cell_type": "markdown",
      "source": [
        "Imaporting Data for CNN (Using MNIST)"
      ],
      "metadata": {
        "id": "R1-8dHYMksWB"
      }
    },
    {
      "cell_type": "code",
      "source": [
        "import torch\n",
        "import torch.nn as nn\n",
        "import torch.nn.functional as F\n",
        "from torch.utils.data import DataLoader\n",
        "from torchvision import datasets , transforms\n",
        "from torchvision.utils import make_grid\n",
        "import numpy as np\n",
        "import matplotlib.pyplot as plt\n",
        "import pandas as pd\n",
        "from sklearn.metrics import confusion_matrix\n",
        "%matplotlib inline"
      ],
      "metadata": {
        "id": "bR7RB_-wmnAQ"
      },
      "execution_count": 76,
      "outputs": []
    },
    {
      "cell_type": "markdown",
      "source": [
        "Converting MNIST files in 4D tensors"
      ],
      "metadata": {
        "id": "WDCC-eqWoAD4"
      }
    },
    {
      "cell_type": "code",
      "source": [
        "transform = transforms.ToTensor()"
      ],
      "metadata": {
        "id": "npUDfQS5n2xW"
      },
      "execution_count": 77,
      "outputs": []
    },
    {
      "cell_type": "code",
      "source": [
        "train_data = datasets.MNIST(root='cnn_data',train=True,download=True,transform=transform)"
      ],
      "metadata": {
        "id": "kixZ3O4XooWg"
      },
      "execution_count": 78,
      "outputs": []
    },
    {
      "cell_type": "code",
      "source": [
        "test_data = datasets.MNIST(root='cnn_data',train=False,download=True,transform=transform)"
      ],
      "metadata": {
        "id": "d7U_255eo9Ex"
      },
      "execution_count": 79,
      "outputs": []
    },
    {
      "cell_type": "markdown",
      "source": [
        "Creating Batches of Images from MNIST"
      ],
      "metadata": {
        "id": "7u4ViT7Xb_wN"
      }
    },
    {
      "cell_type": "code",
      "source": [
        "TrainLoader = DataLoader(train_data,batch_size=100,shuffle=True)\n",
        "TesTLoader = DataLoader(train_data,batch_size=100,shuffle=False)"
      ],
      "metadata": {
        "id": "9MmfeTDmbONV"
      },
      "execution_count": 80,
      "outputs": []
    },
    {
      "cell_type": "markdown",
      "source": [
        "# Define a CNN Model"
      ],
      "metadata": {
        "id": "1lfNrANLcKOE"
      }
    },
    {
      "cell_type": "markdown",
      "source": [
        "Describing the convolutional layer"
      ],
      "metadata": {
        "id": "IQbSDDRTcaNz"
      }
    },
    {
      "cell_type": "code",
      "source": [
        "conv1 = nn.Conv2d(1,6,3,1)\n",
        "conv2 = nn.Conv2d(6,12,3,1)"
      ],
      "metadata": {
        "id": "Su7VVrffb-BT"
      },
      "execution_count": 81,
      "outputs": []
    },
    {
      "cell_type": "markdown",
      "source": [
        "Get one MNIST data"
      ],
      "metadata": {
        "id": "6CEJt6TsgoIB"
      }
    },
    {
      "cell_type": "code",
      "source": [
        "for i ,(X_train , y_train) in enumerate(TrainLoader):\n",
        "  break"
      ],
      "metadata": {
        "id": "EWKjSiCxgnLZ"
      },
      "execution_count": 82,
      "outputs": []
    },
    {
      "cell_type": "code",
      "source": [
        "x= X_train.view(100,1,28,28)\n",
        "x"
      ],
      "metadata": {
        "colab": {
          "base_uri": "https://localhost:8080/"
        },
        "id": "fYX1FQuvhdpR",
        "outputId": "07f9511e-4092-41c3-f675-fa8b33d36cb7"
      },
      "execution_count": 83,
      "outputs": [
        {
          "output_type": "execute_result",
          "data": {
            "text/plain": [
              "tensor([[[[0., 0., 0.,  ..., 0., 0., 0.],\n",
              "          [0., 0., 0.,  ..., 0., 0., 0.],\n",
              "          [0., 0., 0.,  ..., 0., 0., 0.],\n",
              "          ...,\n",
              "          [0., 0., 0.,  ..., 0., 0., 0.],\n",
              "          [0., 0., 0.,  ..., 0., 0., 0.],\n",
              "          [0., 0., 0.,  ..., 0., 0., 0.]]],\n",
              "\n",
              "\n",
              "        [[[0., 0., 0.,  ..., 0., 0., 0.],\n",
              "          [0., 0., 0.,  ..., 0., 0., 0.],\n",
              "          [0., 0., 0.,  ..., 0., 0., 0.],\n",
              "          ...,\n",
              "          [0., 0., 0.,  ..., 0., 0., 0.],\n",
              "          [0., 0., 0.,  ..., 0., 0., 0.],\n",
              "          [0., 0., 0.,  ..., 0., 0., 0.]]],\n",
              "\n",
              "\n",
              "        [[[0., 0., 0.,  ..., 0., 0., 0.],\n",
              "          [0., 0., 0.,  ..., 0., 0., 0.],\n",
              "          [0., 0., 0.,  ..., 0., 0., 0.],\n",
              "          ...,\n",
              "          [0., 0., 0.,  ..., 0., 0., 0.],\n",
              "          [0., 0., 0.,  ..., 0., 0., 0.],\n",
              "          [0., 0., 0.,  ..., 0., 0., 0.]]],\n",
              "\n",
              "\n",
              "        ...,\n",
              "\n",
              "\n",
              "        [[[0., 0., 0.,  ..., 0., 0., 0.],\n",
              "          [0., 0., 0.,  ..., 0., 0., 0.],\n",
              "          [0., 0., 0.,  ..., 0., 0., 0.],\n",
              "          ...,\n",
              "          [0., 0., 0.,  ..., 0., 0., 0.],\n",
              "          [0., 0., 0.,  ..., 0., 0., 0.],\n",
              "          [0., 0., 0.,  ..., 0., 0., 0.]]],\n",
              "\n",
              "\n",
              "        [[[0., 0., 0.,  ..., 0., 0., 0.],\n",
              "          [0., 0., 0.,  ..., 0., 0., 0.],\n",
              "          [0., 0., 0.,  ..., 0., 0., 0.],\n",
              "          ...,\n",
              "          [0., 0., 0.,  ..., 0., 0., 0.],\n",
              "          [0., 0., 0.,  ..., 0., 0., 0.],\n",
              "          [0., 0., 0.,  ..., 0., 0., 0.]]],\n",
              "\n",
              "\n",
              "        [[[0., 0., 0.,  ..., 0., 0., 0.],\n",
              "          [0., 0., 0.,  ..., 0., 0., 0.],\n",
              "          [0., 0., 0.,  ..., 0., 0., 0.],\n",
              "          ...,\n",
              "          [0., 0., 0.,  ..., 0., 0., 0.],\n",
              "          [0., 0., 0.,  ..., 0., 0., 0.],\n",
              "          [0., 0., 0.,  ..., 0., 0., 0.]]]])"
            ]
          },
          "metadata": {},
          "execution_count": 83
        }
      ]
    },
    {
      "cell_type": "markdown",
      "source": [
        "Performing our first convulution"
      ],
      "metadata": {
        "id": "-HPcZeR0iUMa"
      }
    },
    {
      "cell_type": "markdown",
      "source": [
        "\n",
        "\n",
        "\n",
        "\n",
        "*   100 images\n",
        "*   6 images\n",
        "*   26 x 26 image\n",
        "\n",
        "\n"
      ],
      "metadata": {
        "id": "pNrO0HxGjYd6"
      }
    },
    {
      "cell_type": "code",
      "source": [
        "x=F.relu(conv1(x))\n",
        "x.shape"
      ],
      "metadata": {
        "colab": {
          "base_uri": "https://localhost:8080/"
        },
        "id": "YBX71YfaiTxC",
        "outputId": "11adb7e8-3e71-4031-d998-b982da3242e9"
      },
      "execution_count": 84,
      "outputs": [
        {
          "output_type": "execute_result",
          "data": {
            "text/plain": [
              "torch.Size([100, 6, 26, 26])"
            ]
          },
          "metadata": {},
          "execution_count": 84
        }
      ]
    },
    {
      "cell_type": "markdown",
      "source": [
        "Wait a minute.....\n",
        "\n",
        "\n",
        "\n",
        "Remamber the size of MNIST Data is 28 x 28\n",
        "\n",
        "\n",
        "\n",
        "\n",
        "so why are we doing 26 x 26?\n",
        "\n",
        "well the answer is there is a padding of 2 pixels in the images of the MNIST Dataset"
      ],
      "metadata": {
        "id": "UhNSHHDXkDh8"
      }
    },
    {
      "cell_type": "markdown",
      "source": [
        "pass through pooling layer"
      ],
      "metadata": {
        "id": "UjefjqvooeQT"
      }
    },
    {
      "cell_type": "code",
      "source": [
        "x = F.max_pool2d(x,2,2) #karnel of 2 and stride of 2\n",
        "x.shape"
      ],
      "metadata": {
        "colab": {
          "base_uri": "https://localhost:8080/"
        },
        "id": "MnLs6Ta-jr-p",
        "outputId": "23ad607d-f5dc-442b-dd95-1ceb64bbc03f"
      },
      "execution_count": 85,
      "outputs": [
        {
          "output_type": "execute_result",
          "data": {
            "text/plain": [
              "torch.Size([100, 6, 13, 13])"
            ]
          },
          "metadata": {},
          "execution_count": 85
        }
      ]
    },
    {
      "cell_type": "markdown",
      "source": [
        "* 100 images\n",
        "* 26/2 = 13"
      ],
      "metadata": {
        "id": "dipmNGoCrOX7"
      }
    },
    {
      "cell_type": "markdown",
      "source": [
        "lets do the second convolutional layer"
      ],
      "metadata": {
        "id": "k53L7FN2rcU4"
      }
    },
    {
      "cell_type": "code",
      "source": [
        "x = F.relu(conv2(x))\n",
        "x.shape"
      ],
      "metadata": {
        "colab": {
          "base_uri": "https://localhost:8080/"
        },
        "id": "TTj5YnECrdBi",
        "outputId": "d0c60c93-8d2f-48ac-84e2-52f91106581b"
      },
      "execution_count": 87,
      "outputs": [
        {
          "output_type": "execute_result",
          "data": {
            "text/plain": [
              "torch.Size([100, 12, 11, 11])"
            ]
          },
          "metadata": {},
          "execution_count": 87
        }
      ]
    },
    {
      "cell_type": "code",
      "source": [
        "x = F.max_pool2d(x,2,2)\n",
        "x.shape"
      ],
      "metadata": {
        "colab": {
          "base_uri": "https://localhost:8080/"
        },
        "id": "Jy_Wy-REsSpC",
        "outputId": "fd5cbcb6-f738-4ae4-a0b1-d8d2906cd9b2"
      },
      "execution_count": 88,
      "outputs": [
        {
          "output_type": "execute_result",
          "data": {
            "text/plain": [
              "torch.Size([100, 12, 5, 5])"
            ]
          },
          "metadata": {},
          "execution_count": 88
        }
      ]
    },
    {
      "cell_type": "markdown",
      "source": [
        "11/2 = 5  as data  can not be in decimals"
      ],
      "metadata": {
        "id": "GNEOlW7nsgA4"
      }
    }
  ]
}