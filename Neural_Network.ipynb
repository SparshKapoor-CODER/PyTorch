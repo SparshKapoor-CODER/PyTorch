{
  "nbformat": 4,
  "nbformat_minor": 0,
  "metadata": {
    "colab": {
      "provenance": [],
      "gpuType": "T4",
      "authorship_tag": "ABX9TyME1LF/Y4i9M2dcO7Mwqdj4",
      "include_colab_link": true
    },
    "kernelspec": {
      "name": "python3",
      "display_name": "Python 3"
    },
    "language_info": {
      "name": "python"
    },
    "accelerator": "GPU"
  },
  "cells": [
    {
      "cell_type": "markdown",
      "metadata": {
        "id": "view-in-github",
        "colab_type": "text"
      },
      "source": [
        "<a href=\"https://colab.research.google.com/github/SparshKapoor-CODER/PyTorch/blob/main/Neural_Network.ipynb\" target=\"_parent\"><img src=\"https://colab.research.google.com/assets/colab-badge.svg\" alt=\"Open In Colab\"/></a>"
      ]
    },
    {
      "cell_type": "markdown",
      "source": [
        "Create a Model Class that inherits nn.Module"
      ],
      "metadata": {
        "id": "STDlMfHNSSEs"
      }
    },
    {
      "cell_type": "code",
      "source": [
        "import torch\n",
        "import torch.nn as nn\n",
        "import torch.nn.functional as F\n",
        "import numpy as np\n",
        "import matplotlib.pyplot as plt\n",
        "import pandas as pd\n",
        "%matplotlib inline\n",
        "from sklearn.model_selection import train_test_split"
      ],
      "metadata": {
        "id": "902MF2HwTBUL"
      },
      "execution_count": null,
      "outputs": []
    },
    {
      "cell_type": "code",
      "source": [
        "class Model(nn.Module):\n",
        "    # input layer\n",
        "    def __init__(self , in_features=4, h1=8, h2=9, out_features=3):\n",
        "       super().__init__()\n",
        "       self.fc1 = nn.Linear(in_features , h1)   # fc means Fully Connected\n",
        "       self.fc2 = nn.Linear(h1 , h2)\n",
        "       self.out = nn.Linear(h2 , out_features)\n",
        "\n",
        "\n",
        "    def forward(self , x):\n",
        "        x = F.relu(self.fc1(x))   # Rectified Liner Unit\n",
        "        x = F.relu(self.fc2(x))\n",
        "        x = self.out(x)\n",
        "        return x"
      ],
      "metadata": {
        "id": "WSnWUQRVSeTj"
      },
      "execution_count": null,
      "outputs": []
    },
    {
      "cell_type": "code",
      "source": [
        "torch.manual_seed(379)\n",
        "model = Model()"
      ],
      "metadata": {
        "id": "kYBSgn-jUbk8"
      },
      "execution_count": null,
      "outputs": []
    },
    {
      "cell_type": "markdown",
      "source": [
        "We are using iris dataset to train our modal"
      ],
      "metadata": {
        "id": "6FnHULzjVpxb"
      }
    },
    {
      "cell_type": "code",
      "source": [
        "url = 'https://gist.githubusercontent.com/curran/a08a1080b88344b0c8a7/raw/0e7a9b0a5d22642a06d3d5b9bcbad9890c8ee534/iris.csv'\n",
        "My_DataFrame = pd.read_csv(url)"
      ],
      "metadata": {
        "id": "vG3CMxulVEp5"
      },
      "execution_count": null,
      "outputs": []
    },
    {
      "cell_type": "markdown",
      "source": [
        "changing last Columns names with numbers"
      ],
      "metadata": {
        "id": "E1EBUSwiXjQ5"
      }
    },
    {
      "cell_type": "code",
      "source": [
        "My_DataFrame['species']= My_DataFrame['species'].replace('setosa',0.0)\n",
        "My_DataFrame['species']= My_DataFrame['species'].replace('versicolor',1.0)\n",
        "My_DataFrame['species']= My_DataFrame['species'].replace('virginica',2.0)"
      ],
      "metadata": {
        "id": "cLFfurUxW5jN",
        "colab": {
          "base_uri": "https://localhost:8080/"
        },
        "outputId": "b0f81d1d-aaf0-4243-fdfe-ec56d82656f5"
      },
      "execution_count": null,
      "outputs": [
        {
          "output_type": "stream",
          "name": "stderr",
          "text": [
            "<ipython-input-5-8a75b098b9cf>:3: FutureWarning: Downcasting behavior in `replace` is deprecated and will be removed in a future version. To retain the old behavior, explicitly call `result.infer_objects(copy=False)`. To opt-in to the future behavior, set `pd.set_option('future.no_silent_downcasting', True)`\n",
            "  My_DataFrame['species']= My_DataFrame['species'].replace('virginica',2.0)\n"
          ]
        }
      ]
    },
    {
      "cell_type": "markdown",
      "source": [
        "Training the modal"
      ],
      "metadata": {
        "id": "J9KzvW4dX_wc"
      }
    },
    {
      "cell_type": "code",
      "source": [
        "X = My_DataFrame.drop('species' , axis=1).values\n",
        "y = My_DataFrame['species'].values"
      ],
      "metadata": {
        "id": "PTjQkeQ3Xaok"
      },
      "execution_count": null,
      "outputs": []
    },
    {
      "cell_type": "code",
      "source": [
        "X_train, X_test, y_train, y_test = train_test_split(X, y, test_size=0.3, random_state=33)\n",
        "\n",
        "X_train = torch.tensor(X_train, dtype=torch.float32) # Convert to PyTorch FloatTensor\n",
        "X_test = torch.tensor(X_test, dtype=torch.float32)   # Convert to PyTorch FloatTensor\n",
        "\n",
        "\n",
        "# 30% is used to tarin and remaining 70% is used to test the dataset"
      ],
      "metadata": {
        "id": "MQwWIINsXanb"
      },
      "execution_count": null,
      "outputs": []
    },
    {
      "cell_type": "code",
      "source": [
        "X_train = torch.FloatTensor(X_train)\n",
        "X_test = torch.FloatTensor(X_test)\n",
        "y_train = torch.LongTensor(y_train)\n",
        "y_test = torch.LongTensor(y_test)"
      ],
      "metadata": {
        "id": "8qzK6oevjlDZ"
      },
      "execution_count": null,
      "outputs": []
    },
    {
      "cell_type": "markdown",
      "source": [
        "Set the criterion of measure the error, how far off the pridictions are from the data"
      ],
      "metadata": {
        "id": "JjsQQx1Rj_JP"
      }
    },
    {
      "cell_type": "code",
      "source": [
        "criterion = nn.CrossEntropyLoss()"
      ],
      "metadata": {
        "id": "QU6_IjNs26VY"
      },
      "execution_count": null,
      "outputs": []
    },
    {
      "cell_type": "markdown",
      "source": [
        "Choose opitmizer"
      ],
      "metadata": {
        "id": "Etws2PVbkp2z"
      }
    },
    {
      "cell_type": "code",
      "source": [
        "optimizer = torch.optim.Adam(model.parameters(), lr = 0.01)"
      ],
      "metadata": {
        "id": "_RwHGZj_ksvk"
      },
      "execution_count": null,
      "outputs": []
    },
    {
      "cell_type": "code",
      "source": [
        "epochs = 200\n",
        "losses = []\n",
        "for i in range(epochs):\n",
        "  y_predict = model.forward(X_train)\n",
        "  # measure loss\n",
        "  loss = criterion(y_predict , y_train)\n",
        "  losses.append(loss.detach().numpy())\n",
        "  if i % 5 ==0 :\n",
        "    print(f'Epoch {i} and loss is {loss}')\n",
        "  optimizer.zero_grad()\n",
        "  loss.backward()\n",
        "  optimizer.step()"
      ],
      "metadata": {
        "colab": {
          "base_uri": "https://localhost:8080/"
        },
        "id": "jf8p90RnlI7W",
        "outputId": "0e61bcf1-804f-4bec-ed31-6adcbfd9acd0"
      },
      "execution_count": null,
      "outputs": [
        {
          "output_type": "stream",
          "name": "stdout",
          "text": [
            "Epoch 0 and loss is 1.1930252313613892\n",
            "Epoch 5 and loss is 1.0899169445037842\n",
            "Epoch 10 and loss is 1.0196130275726318\n",
            "Epoch 15 and loss is 0.9354188442230225\n",
            "Epoch 20 and loss is 0.8345867991447449\n",
            "Epoch 25 and loss is 0.7210215330123901\n",
            "Epoch 30 and loss is 0.5987496972084045\n",
            "Epoch 35 and loss is 0.49996230006217957\n",
            "Epoch 40 and loss is 0.43449753522872925\n",
            "Epoch 45 and loss is 0.38388127088546753\n",
            "Epoch 50 and loss is 0.33482977747917175\n",
            "Epoch 55 and loss is 0.2836960256099701\n",
            "Epoch 60 and loss is 0.23403458297252655\n",
            "Epoch 65 and loss is 0.1900510936975479\n",
            "Epoch 70 and loss is 0.15510568022727966\n",
            "Epoch 75 and loss is 0.12943102419376373\n",
            "Epoch 80 and loss is 0.11160432547330856\n",
            "Epoch 85 and loss is 0.09947134554386139\n",
            "Epoch 90 and loss is 0.09087114781141281\n",
            "Epoch 95 and loss is 0.08457306772470474\n",
            "Epoch 100 and loss is 0.079862080514431\n",
            "Epoch 105 and loss is 0.07616641372442245\n",
            "Epoch 110 and loss is 0.07312701642513275\n",
            "Epoch 115 and loss is 0.07056966423988342\n",
            "Epoch 120 and loss is 0.06840229034423828\n",
            "Epoch 125 and loss is 0.06656681001186371\n",
            "Epoch 130 and loss is 0.06497303396463394\n",
            "Epoch 135 and loss is 0.0635528713464737\n",
            "Epoch 140 and loss is 0.0622859001159668\n",
            "Epoch 145 and loss is 0.06114763021469116\n",
            "Epoch 150 and loss is 0.0601130947470665\n",
            "Epoch 155 and loss is 0.05916447937488556\n",
            "Epoch 160 and loss is 0.05828986316919327\n",
            "Epoch 165 and loss is 0.05747455358505249\n",
            "Epoch 170 and loss is 0.056715816259384155\n",
            "Epoch 175 and loss is 0.05600624158978462\n",
            "Epoch 180 and loss is 0.055338699370622635\n",
            "Epoch 185 and loss is 0.054712794721126556\n",
            "Epoch 190 and loss is 0.05426403135061264\n",
            "Epoch 195 and loss is 0.0549691841006279\n"
          ]
        }
      ]
    },
    {
      "cell_type": "markdown",
      "source": [
        "Back Propogation"
      ],
      "metadata": {
        "id": "9gMRTEkJ06Dg"
      }
    },
    {
      "cell_type": "code",
      "source": [
        "plt.plot(range(epochs),losses)\n",
        "plt.ylabel('Loss')\n",
        "plt.xlabel('Epoch')"
      ],
      "metadata": {
        "colab": {
          "base_uri": "https://localhost:8080/",
          "height": 466
        },
        "id": "yTYg2FBelIy6",
        "outputId": "7ec06ac8-5da0-486a-bb4b-d6a0929ac298"
      },
      "execution_count": null,
      "outputs": [
        {
          "output_type": "execute_result",
          "data": {
            "text/plain": [
              "Text(0.5, 0, 'Epoch')"
            ]
          },
          "metadata": {},
          "execution_count": 12
        },
        {
          "output_type": "display_data",
          "data": {
            "text/plain": [
              "<Figure size 640x480 with 1 Axes>"
            ],
            "image/png": "[encoded data removed]"
          },
          "metadata": {}
        }
      ]
    },
    {
      "cell_type": "markdown",
      "source": [
        "Evaluate Model on Test Data Set"
      ],
      "metadata": {
        "id": "tT3cEqONB5mn"
      }
    },
    {
      "cell_type": "code",
      "source": [
        "with torch.no_grad():   # turn off back prpogation\n",
        "  y_eval = model.forward(X_test)\n",
        "  loss = criterion(y_eval , y_test)"
      ],
      "metadata": {
        "id": "VR5L8HtK4Sh2"
      },
      "execution_count": null,
      "outputs": []
    },
    {
      "cell_type": "code",
      "source": [
        "correct = 0\n",
        "with torch.no_grad():\n",
        "  for i, data in enumerate(X_test):\n",
        "    y_val = model(data)\n",
        "    print(f'{i+1:2}. {str(y_val):38} {y_test[i]}  {y_val.argmax().item()}')\n",
        "\n",
        "    # Correct or not\n",
        "\n",
        "    if(y_val.argmax().item() == y_test[i]):\n",
        "      correct += 1\n",
        "\n",
        "print(f'we got {correct} correct')"
      ],
      "metadata": {
        "colab": {
          "base_uri": "https://localhost:8080/"
        },
        "id": "3xrTo8ebGO6J",
        "outputId": "e28ef653-0a85-4384-c4f3-ae62968aa3ba"
      },
      "execution_count": null,
      "outputs": [
        {
          "output_type": "stream",
          "name": "stdout",
          "text": [
            " 1. tensor([-3.9508,  5.7565, -1.3308])    1  1\n",
            " 2. tensor([-3.9429,  6.3468, -1.8803])    1  1\n",
            " 3. tensor([  8.9920,   2.0866, -10.5218]) 0  0\n",
            " 4. tensor([-6.4929,  5.7635,  0.9558])    1  1\n",
            " 5. tensor([-10.1761,   3.1493,   6.3077]) 2  2\n",
            " 6. tensor([-14.4237,  -0.4385,  12.8052]) 2  2\n",
            " 7. tensor([  9.0876,   2.2436, -10.7611]) 0  0\n",
            " 8. tensor([  9.9019,   2.0717, -11.3803]) 0  0\n",
            " 9. tensor([-10.3383,   2.9940,   6.5159]) 2  2\n",
            "10. tensor([-12.6581,   1.7023,   9.5598]) 2  2\n",
            "11. tensor([-13.3100,   1.1487,  10.5762]) 2  2\n",
            "12. tensor([  8.7195,   1.8787, -10.0650]) 0  0\n",
            "13. tensor([-12.5497,   0.8391,  10.1307]) 2  2\n",
            "14. tensor([-6.2828,  5.4257,  1.0365])    1  1\n",
            "15. tensor([-11.0341,   2.7654,   7.2873]) 2  2\n",
            "16. tensor([-3.9690,  6.1567, -1.6838])    1  1\n",
            "17. tensor([-8.3059,  3.6895,  4.1764])    2  2\n",
            "18. tensor([  9.9960,   2.0982, -11.4952]) 0  0\n",
            "19. tensor([-5.6264,  5.6589,  0.2327])    1  1\n",
            "20. tensor([-11.3607,   3.3922,   7.0942]) 2  2\n",
            "21. tensor([  9.1238,   2.1040, -10.6645]) 0  0\n",
            "22. tensor([ 10.5811,   2.3441, -12.2875]) 0  0\n",
            "23. tensor([-13.1338,   0.9864,  10.5702]) 2  2\n",
            "24. tensor([  8.9859,   2.0386, -10.4708]) 0  0\n",
            "25. tensor([-9.6757,  3.3200,  5.7558])    2  2\n",
            "26. tensor([-8.9234,  3.6907,  4.7350])    2  2\n",
            "27. tensor([-5.4899,  5.8183,  0.0173])    1  1\n",
            "28. tensor([-3.2693,  5.8216, -2.0622])    1  1\n",
            "29. tensor([-10.4443,   2.8975,   6.6841]) 2  2\n",
            "30. tensor([-9.5132,  2.8717,  5.8923])    2  2\n",
            "31. tensor([-4.7563,  5.7908, -0.5808])    1  1\n",
            "32. tensor([-5.6670,  6.3597, -0.2694])    1  1\n",
            "33. tensor([-10.2954,   1.8215,   7.4243]) 2  2\n",
            "34. tensor([-11.6114,   1.7042,   8.6340]) 2  2\n",
            "35. tensor([-13.0675,   1.0983,  10.4049]) 2  2\n",
            "36. tensor([-11.6368,   2.1275,   8.3349]) 2  2\n",
            "37. tensor([-10.6367,   1.9793,   7.6128]) 2  2\n",
            "38. tensor([-3.0986,  5.6390, -2.0566])    1  1\n",
            "39. tensor([-1.4278,  4.7815, -2.9191])    1  1\n",
            "40. tensor([  9.1238,   2.1040, -10.6645]) 0  0\n",
            "41. tensor([-6.6543,  5.8290,  1.0930])    1  1\n",
            "42. tensor([-3.7100,  5.7140, -1.5353])    1  1\n",
            "43. tensor([-4.0823,  6.0660, -1.4885])    1  1\n",
            "44. tensor([  9.2200,   1.9604, -10.6218]) 0  0\n",
            "45. tensor([  9.2926,   1.9723, -10.7025]) 0  0\n",
            "we got 45 correct\n"
          ]
        }
      ]
    },
    {
      "cell_type": "markdown",
      "source": [
        "Adding new Data"
      ],
      "metadata": {
        "id": "m9GMILTu1Fvn"
      }
    },
    {
      "cell_type": "code",
      "source": [
        "New_iris = torch.tensor([4.7,3.2,1.3,0.2])"
      ],
      "metadata": {
        "id": "c09x2ejj1GMc"
      },
      "execution_count": null,
      "outputs": []
    },
    {
      "cell_type": "code",
      "source": [
        "with torch.no_grad():\n",
        "  print(model(New_iris))"
      ],
      "metadata": {
        "colab": {
          "base_uri": "https://localhost:8080/"
        },
        "id": "rknKbSw71pU1",
        "outputId": "34c1d185-95ac-4fae-d309-64613eb85c9e"
      },
      "execution_count": null,
      "outputs": [
        {
          "output_type": "stream",
          "name": "stdout",
          "text": [
            "tensor([  9.2200,   1.9604, -10.6218])\n"
          ]
        }
      ]
    },
    {
      "cell_type": "markdown",
      "source": [
        "Save And Loading Data"
      ],
      "metadata": {
        "id": "CUzj1q9Fx6TB"
      }
    },
    {
      "cell_type": "code",
      "source": [
        "torch.save(model.state_dict() , 'iris_model.pt')"
      ],
      "metadata": {
        "id": "UefNx07dx_KI"
      },
      "execution_count": null,
      "outputs": []
    },
    {
      "cell_type": "markdown",
      "source": [
        "Load the data"
      ],
      "metadata": {
        "id": "DimP2rFvyhb3"
      }
    },
    {
      "cell_type": "code",
      "source": [
        "new_model = Model()\n",
        "new_model.load_state_dict(torch.load('iris_model.pt'))"
      ],
      "metadata": {
        "colab": {
          "base_uri": "https://localhost:8080/"
        },
        "id": "cX-jUzX4ye7S",
        "outputId": "ee29151c-5e91-4d97-baef-3204cc312ad2"
      },
      "execution_count": null,
      "outputs": [
        {
          "output_type": "execute_result",
          "data": {
            "text/plain": [
              "<All keys matched successfully>"
            ]
          },
          "metadata": {},
          "execution_count": 18
        }
      ]
    }
  ]
}