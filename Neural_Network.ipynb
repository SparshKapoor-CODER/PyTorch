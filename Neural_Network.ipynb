{
  "nbformat": 4,
  "nbformat_minor": 0,
  "metadata": {
    "colab": {
      "provenance": [],
      "gpuType": "T4",
      "authorship_tag": "ABX9TyMRi1EsIUFdv4lkO27qRYCV",
      "include_colab_link": true
    },
    "kernelspec": {
      "name": "python3",
      "display_name": "Python 3"
    },
    "language_info": {
      "name": "python"
    },
    "accelerator": "GPU"
  },
  "cells": [
    {
      "cell_type": "markdown",
      "metadata": {
        "id": "view-in-github",
        "colab_type": "text"
      },
      "source": [
        "<a href=\"https://colab.research.google.com/github/SparshKapoor-CODER/PyTorch/blob/main/Neural_Network.ipynb\" target=\"_parent\"><img src=\"https://colab.research.google.com/assets/colab-badge.svg\" alt=\"Open In Colab\"/></a>"
      ]
    },
    {
      "cell_type": "markdown",
      "source": [
        "Create a Model Class that inherits nn.Module"
      ],
      "metadata": {
        "id": "STDlMfHNSSEs"
      }
    },
    {
      "cell_type": "code",
      "source": [
        "import torch\n",
        "import torch.nn as nn\n",
        "import torch.nn.functional as F\n",
        "import numpy as np\n",
        "import matplotlib.pyplot as plt\n",
        "import pandas as pd\n",
        "%matplotlib inline\n",
        "from sklearn.model_selection import train_test_split"
      ],
      "metadata": {
        "id": "902MF2HwTBUL"
      },
      "execution_count": 30,
      "outputs": []
    },
    {
      "cell_type": "code",
      "source": [
        "class Model(nn.Module):\n",
        "    # input layer\n",
        "    def __init__(self , in_features=4, h1=8, h2=9, out_features=3):\n",
        "       super().__init__()\n",
        "       self.fc1 = nn.Linear(in_features , h1)   # fc means Fully Connected\n",
        "       self.fc2 = nn.Linear(h1 , h2)\n",
        "       self.out = nn.Linear(h2 , out_features)\n",
        "\n",
        "\n",
        "    def forward(self , x):\n",
        "        x = F.relu(self.fc1(x))   # Rectified Liner Unit\n",
        "        x = F.relu(self.fc2(x))\n",
        "        x = self.out(x)\n",
        "        return x"
      ],
      "metadata": {
        "id": "WSnWUQRVSeTj"
      },
      "execution_count": 15,
      "outputs": []
    },
    {
      "cell_type": "code",
      "source": [
        "torch.manual_seed(379)\n",
        "model = Model()"
      ],
      "metadata": {
        "id": "kYBSgn-jUbk8"
      },
      "execution_count": 16,
      "outputs": []
    },
    {
      "cell_type": "markdown",
      "source": [
        "We are using iris dataset to train our modal"
      ],
      "metadata": {
        "id": "6FnHULzjVpxb"
      }
    },
    {
      "cell_type": "code",
      "source": [
        "url = 'https://gist.githubusercontent.com/curran/a08a1080b88344b0c8a7/raw/0e7a9b0a5d22642a06d3d5b9bcbad9890c8ee534/iris.csv'\n",
        "My_DataFrame = pd.read_csv(url)"
      ],
      "metadata": {
        "id": "vG3CMxulVEp5"
      },
      "execution_count": 22,
      "outputs": []
    },
    {
      "cell_type": "markdown",
      "source": [
        "changing last Columns names with numbers"
      ],
      "metadata": {
        "id": "E1EBUSwiXjQ5"
      }
    },
    {
      "cell_type": "code",
      "source": [
        "My_DataFrame['species']= My_DataFrame['species'].replace('setosa',0)\n",
        "My_DataFrame['species']= My_DataFrame['species'].replace('versicolor',1)\n",
        "My_DataFrame['species']= My_DataFrame['species'].replace('virginica',2)"
      ],
      "metadata": {
        "id": "cLFfurUxW5jN"
      },
      "execution_count": 25,
      "outputs": []
    },
    {
      "cell_type": "markdown",
      "source": [
        "Training the modal"
      ],
      "metadata": {
        "id": "J9KzvW4dX_wc"
      }
    },
    {
      "cell_type": "code",
      "source": [
        "X = My_DataFrame.drop('species' , axis=1).values\n",
        "y = My_DataFrame['species'].values"
      ],
      "metadata": {
        "id": "PTjQkeQ3Xaok"
      },
      "execution_count": 26,
      "outputs": []
    },
    {
      "cell_type": "code",
      "source": [
        "X_train, X_test, y_test, y_train = train_test_split(X, y, test_size=0.3, random_state=33)\n",
        "\n",
        "\n",
        "\n",
        "# 30% is used to tarin and remaining 70% is used to test the dataset"
      ],
      "metadata": {
        "id": "MQwWIINsXanb"
      },
      "execution_count": 31,
      "outputs": []
    },
    {
      "cell_type": "code",
      "source": [],
      "metadata": {
        "id": "un4D1eDjZkYd"
      },
      "execution_count": null,
      "outputs": []
    }
  ]
}