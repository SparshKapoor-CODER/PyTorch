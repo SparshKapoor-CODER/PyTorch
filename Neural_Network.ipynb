{
  "nbformat": 4,
  "nbformat_minor": 0,
  "metadata": {
    "colab": {
      "provenance": [],
      "gpuType": "T4",
      "authorship_tag": "ABX9TyMgF9fBJy3bRziduRxloWoG",
      "include_colab_link": true
    },
    "kernelspec": {
      "name": "python3",
      "display_name": "Python 3"
    },
    "language_info": {
      "name": "python"
    },
    "accelerator": "GPU"
  },
  "cells": [
    {
      "cell_type": "markdown",
      "metadata": {
        "id": "view-in-github",
        "colab_type": "text"
      },
      "source": [
        "<a href=\"https://colab.research.google.com/github/SparshKapoor-CODER/PyTorch/blob/main/Neural_Network.ipynb\" target=\"_parent\"><img src=\"https://colab.research.google.com/assets/colab-badge.svg\" alt=\"Open In Colab\"/></a>"
      ]
    },
    {
      "cell_type": "markdown",
      "source": [
        "Create a Model Class that inherits nn.Module"
      ],
      "metadata": {
        "id": "STDlMfHNSSEs"
      }
    },
    {
      "cell_type": "code",
      "source": [
        "import torch\n",
        "import torch.nn as nn\n",
        "import torch.nn.functional as F\n",
        "import numpy as np\n",
        "import matplotlib.pyplot as plt\n",
        "import pandas as pd\n",
        "%matplotlib inline\n",
        "from sklearn.model_selection import train_test_split"
      ],
      "metadata": {
        "id": "902MF2HwTBUL"
      },
      "execution_count": 67,
      "outputs": []
    },
    {
      "cell_type": "code",
      "source": [
        "class Model(nn.Module):\n",
        "    # input layer\n",
        "    def __init__(self , in_features=4, h1=8, h2=9, out_features=3):\n",
        "       super().__init__()\n",
        "       self.fc1 = nn.Linear(in_features , h1)   # fc means Fully Connected\n",
        "       self.fc2 = nn.Linear(h1 , h2)\n",
        "       self.out = nn.Linear(h2 , out_features)\n",
        "\n",
        "\n",
        "    def forward(self , x):\n",
        "        x = F.relu(self.fc1(x))   # Rectified Liner Unit\n",
        "        x = F.relu(self.fc2(x))\n",
        "        x = self.out(x)\n",
        "        return x"
      ],
      "metadata": {
        "id": "WSnWUQRVSeTj"
      },
      "execution_count": 68,
      "outputs": []
    },
    {
      "cell_type": "code",
      "source": [
        "torch.manual_seed(379)\n",
        "model = Model()"
      ],
      "metadata": {
        "id": "kYBSgn-jUbk8"
      },
      "execution_count": 69,
      "outputs": []
    },
    {
      "cell_type": "markdown",
      "source": [
        "We are using iris dataset to train our modal"
      ],
      "metadata": {
        "id": "6FnHULzjVpxb"
      }
    },
    {
      "cell_type": "code",
      "source": [
        "url = 'https://gist.githubusercontent.com/curran/a08a1080b88344b0c8a7/raw/0e7a9b0a5d22642a06d3d5b9bcbad9890c8ee534/iris.csv'\n",
        "My_DataFrame = pd.read_csv(url)"
      ],
      "metadata": {
        "id": "vG3CMxulVEp5"
      },
      "execution_count": 70,
      "outputs": []
    },
    {
      "cell_type": "markdown",
      "source": [
        "changing last Columns names with numbers"
      ],
      "metadata": {
        "id": "E1EBUSwiXjQ5"
      }
    },
    {
      "cell_type": "code",
      "source": [
        "My_DataFrame['species']= My_DataFrame['species'].replace('setosa',0.0)\n",
        "My_DataFrame['species']= My_DataFrame['species'].replace('versicolor',1.0)\n",
        "My_DataFrame['species']= My_DataFrame['species'].replace('virginica',2.0)"
      ],
      "metadata": {
        "id": "cLFfurUxW5jN",
        "colab": {
          "base_uri": "https://localhost:8080/"
        },
        "outputId": "d1a7e125-5195-4cde-de29-30e3f7ab9569"
      },
      "execution_count": 71,
      "outputs": [
        {
          "output_type": "stream",
          "name": "stderr",
          "text": [
            "<ipython-input-71-8a75b098b9cf>:3: FutureWarning: Downcasting behavior in `replace` is deprecated and will be removed in a future version. To retain the old behavior, explicitly call `result.infer_objects(copy=False)`. To opt-in to the future behavior, set `pd.set_option('future.no_silent_downcasting', True)`\n",
            "  My_DataFrame['species']= My_DataFrame['species'].replace('virginica',2.0)\n"
          ]
        }
      ]
    },
    {
      "cell_type": "markdown",
      "source": [
        "Training the modal"
      ],
      "metadata": {
        "id": "J9KzvW4dX_wc"
      }
    },
    {
      "cell_type": "code",
      "source": [
        "X = My_DataFrame.drop('species' , axis=1).values\n",
        "y = My_DataFrame['species'].values"
      ],
      "metadata": {
        "id": "PTjQkeQ3Xaok"
      },
      "execution_count": 72,
      "outputs": []
    },
    {
      "cell_type": "code",
      "source": [
        "X_train, X_test, y_train, y_test = train_test_split(X, y, test_size=0.3, random_state=33)\n",
        "\n",
        "X_train = torch.tensor(X_train, dtype=torch.float32) # Convert to PyTorch FloatTensor\n",
        "X_test = torch.tensor(X_test, dtype=torch.float32)   # Convert to PyTorch FloatTensor\n",
        "\n",
        "\n",
        "# 30% is used to tarin and remaining 70% is used to test the dataset"
      ],
      "metadata": {
        "id": "MQwWIINsXanb"
      },
      "execution_count": 73,
      "outputs": []
    },
    {
      "cell_type": "code",
      "source": [
        "X_train = torch.FloatTensor(X_train)\n",
        "X_test = torch.FloatTensor(X_test)\n",
        "y_train = torch.LongTensor(y_train)\n",
        "y_test = torch.LongTensor(y_test)"
      ],
      "metadata": {
        "id": "8qzK6oevjlDZ"
      },
      "execution_count": 74,
      "outputs": []
    },
    {
      "cell_type": "markdown",
      "source": [
        "Set the criterion of measure the error, how far off the pridictions are from the data"
      ],
      "metadata": {
        "id": "JjsQQx1Rj_JP"
      }
    },
    {
      "cell_type": "code",
      "source": [
        "criterion = nn.CrossEntropyLoss()"
      ],
      "metadata": {
        "id": "QU6_IjNs26VY"
      },
      "execution_count": 75,
      "outputs": []
    },
    {
      "cell_type": "markdown",
      "source": [
        "Choose opitmizer"
      ],
      "metadata": {
        "id": "Etws2PVbkp2z"
      }
    },
    {
      "cell_type": "code",
      "source": [
        "optimizer = torch.optim.Adam(model.parameters(), lr = 0.01)"
      ],
      "metadata": {
        "id": "_RwHGZj_ksvk"
      },
      "execution_count": 76,
      "outputs": []
    },
    {
      "cell_type": "code",
      "source": [
        "epochs = 200\n",
        "losses = []\n",
        "for i in range(epochs):\n",
        "  y_predict = model.forward(X_train)\n",
        "  # measure loss\n",
        "  loss = criterion(y_predict , y_train)\n",
        "  losses.append(loss.detach().numpy())\n",
        "  if i % 5 ==0 :\n",
        "    print(f'Epoch {i} and loss is {loss}')\n",
        "  optimizer.zero_grad()\n",
        "  loss.backward()\n",
        "  optimizer.step()"
      ],
      "metadata": {
        "colab": {
          "base_uri": "https://localhost:8080/"
        },
        "id": "jf8p90RnlI7W",
        "outputId": "93ec662b-0484-45e0-8eba-649508514ec3"
      },
      "execution_count": 77,
      "outputs": [
        {
          "output_type": "stream",
          "name": "stdout",
          "text": [
            "Epoch 0 and loss is 1.1930252313613892\n",
            "Epoch 5 and loss is 1.0899169445037842\n",
            "Epoch 10 and loss is 1.0196130275726318\n",
            "Epoch 15 and loss is 0.9354188442230225\n",
            "Epoch 20 and loss is 0.8345867991447449\n",
            "Epoch 25 and loss is 0.7210215330123901\n",
            "Epoch 30 and loss is 0.5987496972084045\n",
            "Epoch 35 and loss is 0.4999622404575348\n",
            "Epoch 40 and loss is 0.4344976246356964\n",
            "Epoch 45 and loss is 0.38388124108314514\n",
            "Epoch 50 and loss is 0.33482974767684937\n",
            "Epoch 55 and loss is 0.2836959958076477\n",
            "Epoch 60 and loss is 0.23403450846672058\n",
            "Epoch 65 and loss is 0.19005101919174194\n",
            "Epoch 70 and loss is 0.15510565042495728\n",
            "Epoch 75 and loss is 0.12943102419376373\n",
            "Epoch 80 and loss is 0.11160433292388916\n",
            "Epoch 85 and loss is 0.09947135299444199\n",
            "Epoch 90 and loss is 0.090871162712574\n",
            "Epoch 95 and loss is 0.08457309007644653\n",
            "Epoch 100 and loss is 0.07986211031675339\n",
            "Epoch 105 and loss is 0.07616643607616425\n",
            "Epoch 110 and loss is 0.07312706857919693\n",
            "Epoch 115 and loss is 0.07056967914104462\n",
            "Epoch 120 and loss is 0.06840232014656067\n",
            "Epoch 125 and loss is 0.0665668249130249\n",
            "Epoch 130 and loss is 0.06497306376695633\n",
            "Epoch 135 and loss is 0.06355289369821548\n",
            "Epoch 140 and loss is 0.06228594109416008\n",
            "Epoch 145 and loss is 0.06114763393998146\n",
            "Epoch 150 and loss is 0.0601130835711956\n",
            "Epoch 155 and loss is 0.05916448310017586\n",
            "Epoch 160 and loss is 0.058289941400289536\n",
            "Epoch 165 and loss is 0.05747457966208458\n",
            "Epoch 170 and loss is 0.05671582370996475\n",
            "Epoch 175 and loss is 0.05600625276565552\n",
            "Epoch 180 and loss is 0.05533871799707413\n",
            "Epoch 185 and loss is 0.05471295118331909\n",
            "Epoch 190 and loss is 0.054267093539237976\n",
            "Epoch 195 and loss is 0.05495196208357811\n"
          ]
        }
      ]
    },
    {
      "cell_type": "markdown",
      "source": [
        "Back Propogation"
      ],
      "metadata": {
        "id": "9gMRTEkJ06Dg"
      }
    },
    {
      "cell_type": "code",
      "source": [
        "plt.plot(range(epochs),losses)\n",
        "plt.ylabel('Loss')\n",
        "plt.xlabel('Epoch')"
      ],
      "metadata": {
        "colab": {
          "base_uri": "https://localhost:8080/",
          "height": 466
        },
        "id": "yTYg2FBelIy6",
        "outputId": "7d3f85b1-7e0b-48a0-c0d4-64868db9f68e"
      },
      "execution_count": 78,
      "outputs": [
        {
          "output_type": "execute_result",
          "data": {
            "text/plain": [
              "Text(0.5, 0, 'Epoch')"
            ]
          },
          "metadata": {},
          "execution_count": 78
        },
        {
          "output_type": "display_data",
          "data": {
            "text/plain": [
              "<Figure size 640x480 with 1 Axes>"
            ],
            "image/png": "[encoded data removed]"
          },
          "metadata": {}
        }
      ]
    },
    {
      "cell_type": "markdown",
      "source": [
        "Evaluate Model on Test Data Set"
      ],
      "metadata": {
        "id": "tT3cEqONB5mn"
      }
    },
    {
      "cell_type": "code",
      "source": [
        "with torch.no_grad():   # turn off back prpogation\n",
        "  y_eval = model.forward(X_test)\n",
        "  loss = criterion(y_eval , y_test)"
      ],
      "metadata": {
        "id": "VR5L8HtK4Sh2"
      },
      "execution_count": 79,
      "outputs": []
    },
    {
      "cell_type": "code",
      "source": [
        "correct = 0\n",
        "with torch.no_grad():\n",
        "  for i, data in enumerate(X_test):\n",
        "    y_val = model(data)\n",
        "    print(f'{i+1:2}. {str(y_val):38} {y_test[i]}  {y_val.argmax().item()}')\n",
        "\n",
        "    # Correct or not\n",
        "\n",
        "    if(y_val.argmax().item() == y_test[i]):\n",
        "      correct += 1\n",
        "\n",
        "print(f'we got {correct} correct')"
      ],
      "metadata": {
        "colab": {
          "base_uri": "https://localhost:8080/"
        },
        "id": "3xrTo8ebGO6J",
        "outputId": "28c6f14b-1d8c-4acb-bc32-d9a9b2b21675"
      },
      "execution_count": 83,
      "outputs": [
        {
          "output_type": "stream",
          "name": "stdout",
          "text": [
            " 1. tensor([-3.9501,  5.7571, -1.3320])    1  1\n",
            " 2. tensor([-3.9421,  6.3475, -1.8816])    1  1\n",
            " 3. tensor([  8.9920,   2.0870, -10.5221]) 0  0\n",
            " 4. tensor([-6.4921,  5.7640,  0.9547])    1  1\n",
            " 5. tensor([-10.1751,   3.1499,   6.3062]) 2  2\n",
            " 6. tensor([-14.4225,  -0.4378,  12.8034]) 2  2\n",
            " 7. tensor([  9.0877,   2.2440, -10.7614]) 0  0\n",
            " 8. tensor([  9.9021,   2.0720, -11.3806]) 0  0\n",
            " 9. tensor([-10.3372,   2.9946,   6.5143]) 2  2\n",
            "10. tensor([-12.6569,   1.7031,   9.5581]) 2  2\n",
            "11. tensor([-13.3088,   1.1494,  10.5744]) 2  2\n",
            "12. tensor([  8.7197,   1.8789, -10.0653]) 0  0\n",
            "13. tensor([-12.5485,   0.8397,  10.1290]) 2  2\n",
            "14. tensor([-6.2820,  5.4261,  1.0353])    1  1\n",
            "15. tensor([-11.0330,   2.7661,   7.2856]) 2  2\n",
            "16. tensor([-3.9682,  6.1574, -1.6851])    1  1\n",
            "17. tensor([-8.3052,  3.6900,  4.1751])    2  2\n",
            "18. tensor([  9.9960,   2.0985, -11.4955]) 0  0\n",
            "19. tensor([-5.6256,  5.6593,  0.2315])    1  1\n",
            "20. tensor([-11.3595,   3.3929,   7.0925]) 2  2\n",
            "21. tensor([  9.1238,   2.1043, -10.6647]) 0  0\n",
            "22. tensor([ 10.5811,   2.3445, -12.2878]) 0  0\n",
            "23. tensor([-13.1327,   0.9871,  10.5685]) 2  2\n",
            "24. tensor([  8.9859,   2.0389, -10.4710]) 0  0\n",
            "25. tensor([-9.6747,  3.3206,  5.7543])    2  2\n",
            "26. tensor([-8.9223,  3.6913,  4.7335])    2  2\n",
            "27. tensor([-5.4891,  5.8187,  0.0162])    1  1\n",
            "28. tensor([-3.2686,  5.8222, -2.0634])    1  1\n",
            "29. tensor([-10.4432,   2.8981,   6.6824]) 2  2\n",
            "30. tensor([-9.5121,  2.8723,  5.8908])    2  2\n",
            "31. tensor([-4.7556,  5.7912, -0.5818])    1  1\n",
            "32. tensor([-5.6662,  6.3602, -0.2706])    1  1\n",
            "33. tensor([-10.2944,   1.8220,   7.4228]) 2  2\n",
            "34. tensor([-11.6103,   1.7049,   8.6323]) 2  2\n",
            "35. tensor([-13.0663,   1.0990,  10.4032]) 2  2\n",
            "36. tensor([-11.6356,   2.1282,   8.3333]) 2  2\n",
            "37. tensor([-10.6357,   1.9799,   7.6113]) 2  2\n",
            "38. tensor([-3.0979,  5.6396, -2.0577])    1  1\n",
            "39. tensor([-1.4273,  4.7820, -2.9201])    1  1\n",
            "40. tensor([  9.1238,   2.1043, -10.6647]) 0  0\n",
            "41. tensor([-6.6534,  5.8295,  1.0916])    1  1\n",
            "42. tensor([-3.7094,  5.7146, -1.5365])    1  1\n",
            "43. tensor([-4.0815,  6.0666, -1.4898])    1  1\n",
            "44. tensor([  9.2202,   1.9606, -10.6221]) 0  0\n",
            "45. tensor([  9.2928,   1.9725, -10.7028]) 0  0\n",
            "we got 45 correct\n"
          ]
        }
      ]
    }
  ]
}