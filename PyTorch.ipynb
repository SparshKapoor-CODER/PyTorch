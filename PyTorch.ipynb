{
  "nbformat": 4,
  "nbformat_minor": 0,
  "metadata": {
    "colab": {
      "provenance": [],
      "gpuType": "T4",
      "authorship_tag": "ABX9TyOk63al9oN+pPqrL6/iPZ/0",
      "include_colab_link": true
    },
    "kernelspec": {
      "name": "python3",
      "display_name": "Python 3"
    },
    "language_info": {
      "name": "python"
    },
    "accelerator": "GPU"
  },
  "cells": [
    {
      "cell_type": "markdown",
      "metadata": {
        "id": "view-in-github",
        "colab_type": "text"
      },
      "source": [
        "<a href=\"https://colab.research.google.com/github/SparshKapoor-CODER/PyTorch/blob/main/PyTorch.ipynb\" target=\"_parent\"><img src=\"https://colab.research.google.com/assets/colab-badge.svg\" alt=\"Open In Colab\"/></a>"
      ]
    },
    {
      "cell_type": "markdown",
      "source": [
        "# **TENSORS**"
      ],
      "metadata": {
        "id": "jsU_WelMrDfD"
      }
    },
    {
      "cell_type": "code",
      "source": [
        "import torch\n",
        "import numpy as np\n",
        "import random"
      ],
      "metadata": {
        "id": "i6WdtRwUpPwX"
      },
      "execution_count": 3,
      "outputs": []
    },
    {
      "cell_type": "markdown",
      "source": [
        "# **LISTS**"
      ],
      "metadata": {
        "id": "o9nvXWOwsDef"
      }
    },
    {
      "cell_type": "code",
      "source": [
        "myList = [[1,2,3],[3,4,5],[6,7,8]]"
      ],
      "metadata": {
        "id": "xKjoev4TpP3X"
      },
      "execution_count": null,
      "outputs": []
    },
    {
      "cell_type": "markdown",
      "source": [
        "# **NUMPY** **ARRAYS**"
      ],
      "metadata": {
        "id": "YaO2Ee6zRe_K"
      }
    },
    {
      "cell_type": "code",
      "source": [
        "np1= np.random.rand(3,4)\n",
        "np1"
      ],
      "metadata": {
        "colab": {
          "base_uri": "https://localhost:8080/"
        },
        "id": "soa7mHzJRdAM",
        "outputId": "c96bfde6-9f70-4187-ea37-4f07413ffb0e"
      },
      "execution_count": 24,
      "outputs": [
        {
          "output_type": "execute_result",
          "data": {
            "text/plain": [
              "array([[0.64095472, 0.4439494 , 0.24051676, 0.39887399],\n",
              "       [0.36888234, 0.90823422, 0.59052949, 0.63703767],\n",
              "       [0.12601331, 0.16389655, 0.9666892 , 0.6173199 ]])"
            ]
          },
          "metadata": {},
          "execution_count": 24
        }
      ]
    },
    {
      "cell_type": "markdown",
      "source": [
        "# **TENSORS**"
      ],
      "metadata": {
        "id": "0SpfpfDtS-8Z"
      }
    },
    {
      "cell_type": "code",
      "source": [
        "tensor_2d = torch.randn(3,8)\n",
        "tensor_2d"
      ],
      "metadata": {
        "id": "YpauHo8NpP92",
        "colab": {
          "base_uri": "https://localhost:8080/"
        },
        "outputId": "86f4ada0-bf03-412c-975f-822c579d8df1"
      },
      "execution_count": 30,
      "outputs": [
        {
          "output_type": "execute_result",
          "data": {
            "text/plain": [
              "tensor([[-1.3297, -1.3316,  0.0603, -0.4288,  0.7110, -1.7067,  0.2316, -0.6149],\n",
              "        [ 0.0756, -0.0372, -0.1837, -0.6550,  0.4882, -1.2178,  1.3119,  1.3541],\n",
              "        [ 0.6781,  2.3454,  1.5591, -0.7193, -0.4015,  0.4487, -1.3510, -0.1317]])"
            ]
          },
          "metadata": {},
          "execution_count": 30
        }
      ]
    },
    {
      "cell_type": "code",
      "source": [
        "tensor_3d = torch.ones(2,3,4)\n",
        "tensor_3d"
      ],
      "metadata": {
        "colab": {
          "base_uri": "https://localhost:8080/"
        },
        "id": "pW3gg1d5S9S6",
        "outputId": "e6294b02-bfe5-41f1-8c81-a9d1f59cf5df"
      },
      "execution_count": 6,
      "outputs": [
        {
          "output_type": "execute_result",
          "data": {
            "text/plain": [
              "tensor([[[1., 1., 1., 1.],\n",
              "         [1., 1., 1., 1.],\n",
              "         [1., 1., 1., 1.]],\n",
              "\n",
              "        [[1., 1., 1., 1.],\n",
              "         [1., 1., 1., 1.],\n",
              "         [1., 1., 1., 1.]]])"
            ]
          },
          "metadata": {},
          "execution_count": 6
        }
      ]
    },
    {
      "cell_type": "markdown",
      "source": [
        "so like this we can make tensors of any dimention of our need\n",
        "\n"
      ],
      "metadata": {
        "id": "2riwar8sUQt7"
      }
    },
    {
      "cell_type": "markdown",
      "source": [
        "Documentation\n",
        "\n",
        "\n",
        "https://pytorch.org/docs/stable/tensors.html"
      ],
      "metadata": {
        "id": "hXnLXNesfQh1"
      }
    },
    {
      "cell_type": "code",
      "source": [],
      "metadata": {
        "id": "7CJbR4JhpQAv"
      },
      "execution_count": 6,
      "outputs": []
    },
    {
      "cell_type": "code",
      "source": [],
      "metadata": {
        "id": "4N5I57xRpQD4"
      },
      "execution_count": null,
      "outputs": []
    },
    {
      "cell_type": "code",
      "source": [],
      "metadata": {
        "id": "P1trAyWZpQHm"
      },
      "execution_count": null,
      "outputs": []
    },
    {
      "cell_type": "code",
      "source": [],
      "metadata": {
        "id": "n__X9cyapQNX"
      },
      "execution_count": null,
      "outputs": []
    },
    {
      "cell_type": "code",
      "source": [],
      "metadata": {
        "id": "2A2jmc1ipQQx"
      },
      "execution_count": null,
      "outputs": []
    },
    {
      "cell_type": "code",
      "source": [],
      "metadata": {
        "id": "waCkv4AjpQT4"
      },
      "execution_count": null,
      "outputs": []
    },
    {
      "cell_type": "code",
      "source": [],
      "metadata": {
        "id": "KfMnJHPIpQW7"
      },
      "execution_count": null,
      "outputs": []
    }
  ]
}