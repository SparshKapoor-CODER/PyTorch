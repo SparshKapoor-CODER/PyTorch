{
  "nbformat": 4,
  "nbformat_minor": 0,
  "metadata": {
    "colab": {
      "provenance": [],
      "gpuType": "T4",
      "authorship_tag": "ABX9TyPUCY6F/nc7YeoI3G0UNFcb",
      "include_colab_link": true
    },
    "kernelspec": {
      "name": "python3",
      "display_name": "Python 3"
    },
    "language_info": {
      "name": "python"
    },
    "accelerator": "GPU"
  },
  "cells": [
    {
      "cell_type": "markdown",
      "metadata": {
        "id": "view-in-github",
        "colab_type": "text"
      },
      "source": [
        "<a href=\"https://colab.research.google.com/github/SparshKapoor-CODER/PyTorch/blob/main/TensorMath.ipynb\" target=\"_parent\"><img src=\"https://colab.research.google.com/assets/colab-badge.svg\" alt=\"Open In Colab\"/></a>"
      ]
    },
    {
      "cell_type": "markdown",
      "source": [
        "# Math Operations with PyTorch\n",
        "\n",
        "\n",
        "*  Add, Substrac,product bla bla\n"
      ],
      "metadata": {
        "id": "HxjF8T0aNKT1"
      }
    },
    {
      "cell_type": "code",
      "execution_count": 1,
      "metadata": {
        "id": "4iUvLzDpMF7v"
      },
      "outputs": [],
      "source": [
        "import torch\n",
        "import numpy as np"
      ]
    },
    {
      "cell_type": "code",
      "source": [
        "tensor_A = torch.tensor([1,2,3])\n",
        "tensor_B = torch.tensor([4,5,6])"
      ],
      "metadata": {
        "id": "Wum6pCtpMsIP"
      },
      "execution_count": 2,
      "outputs": []
    },
    {
      "cell_type": "markdown",
      "source": [
        "#  Addition"
      ],
      "metadata": {
        "id": "JBUZwtvEO6mj"
      }
    },
    {
      "cell_type": "code",
      "source": [
        "tensor_A + tensor_B\n",
        "\n",
        "# 1+4  2+5  3+6"
      ],
      "metadata": {
        "colab": {
          "base_uri": "https://localhost:8080/"
        },
        "id": "Os2D7gE4Nv5q",
        "outputId": "8ea9593c-7d3d-401e-d447-93403980d7fe"
      },
      "execution_count": 7,
      "outputs": [
        {
          "output_type": "execute_result",
          "data": {
            "text/plain": [
              "tensor([5, 7, 9])"
            ]
          },
          "metadata": {},
          "execution_count": 7
        }
      ]
    },
    {
      "cell_type": "code",
      "source": [
        "torch.add(tensor_A,tensor_B)"
      ],
      "metadata": {
        "colab": {
          "base_uri": "https://localhost:8080/"
        },
        "id": "pIEKbIO9N89s",
        "outputId": "fb6e1bc6-9138-43e5-93aa-22dbf0645907"
      },
      "execution_count": 8,
      "outputs": [
        {
          "output_type": "execute_result",
          "data": {
            "text/plain": [
              "tensor([5, 7, 9])"
            ]
          },
          "metadata": {},
          "execution_count": 8
        }
      ]
    },
    {
      "cell_type": "markdown",
      "source": [
        "#  Substraction"
      ],
      "metadata": {
        "id": "HvUl0w0dO2Z6"
      }
    },
    {
      "cell_type": "code",
      "source": [
        "tensor_B - tensor_A"
      ],
      "metadata": {
        "colab": {
          "base_uri": "https://localhost:8080/"
        },
        "id": "aqh-2NuIOCMj",
        "outputId": "35727fab-7d88-4a58-854d-5a2bbb1e3bd0"
      },
      "execution_count": 6,
      "outputs": [
        {
          "output_type": "execute_result",
          "data": {
            "text/plain": [
              "tensor([3, 3, 3])"
            ]
          },
          "metadata": {},
          "execution_count": 6
        }
      ]
    },
    {
      "cell_type": "code",
      "source": [
        "torch.sub(tensor_B,tensor_A)"
      ],
      "metadata": {
        "colab": {
          "base_uri": "https://localhost:8080/"
        },
        "id": "-JfFa2ZoON5_",
        "outputId": "4cf4a3b1-9428-4b9b-d663-c2762d2f89b7"
      },
      "execution_count": 9,
      "outputs": [
        {
          "output_type": "execute_result",
          "data": {
            "text/plain": [
              "tensor([3, 3, 3])"
            ]
          },
          "metadata": {},
          "execution_count": 9
        }
      ]
    },
    {
      "cell_type": "markdown",
      "source": [
        "# Product"
      ],
      "metadata": {
        "id": "eVcEhCvNPGZK"
      }
    },
    {
      "cell_type": "code",
      "source": [
        "tensor_A * tensor_B"
      ],
      "metadata": {
        "colab": {
          "base_uri": "https://localhost:8080/"
        },
        "id": "I47krwfRPLaS",
        "outputId": "66545e58-c1d8-40da-910e-4efe8ffe341a"
      },
      "execution_count": 10,
      "outputs": [
        {
          "output_type": "execute_result",
          "data": {
            "text/plain": [
              "tensor([ 4, 10, 18])"
            ]
          },
          "metadata": {},
          "execution_count": 10
        }
      ]
    },
    {
      "cell_type": "code",
      "source": [
        "torch.mul(tensor_A,tensor_B)"
      ],
      "metadata": {
        "colab": {
          "base_uri": "https://localhost:8080/"
        },
        "id": "KdrE1gQYPRz6",
        "outputId": "970ad83a-55d1-478b-80c7-700105d0d94f"
      },
      "execution_count": 11,
      "outputs": [
        {
          "output_type": "execute_result",
          "data": {
            "text/plain": [
              "tensor([ 4, 10, 18])"
            ]
          },
          "metadata": {},
          "execution_count": 11
        }
      ]
    },
    {
      "cell_type": "markdown",
      "source": [
        "# Devision"
      ],
      "metadata": {
        "id": "yVmOLJlCPWjE"
      }
    },
    {
      "cell_type": "code",
      "source": [
        "tensor_B/tensor_A"
      ],
      "metadata": {
        "colab": {
          "base_uri": "https://localhost:8080/"
        },
        "id": "P6bhFOmwPqEK",
        "outputId": "ad7772fa-b732-4a15-862c-da2b6f915454"
      },
      "execution_count": 12,
      "outputs": [
        {
          "output_type": "execute_result",
          "data": {
            "text/plain": [
              "tensor([4.0000, 2.5000, 2.0000])"
            ]
          },
          "metadata": {},
          "execution_count": 12
        }
      ]
    },
    {
      "cell_type": "code",
      "source": [
        "torch.div(tensor_B,tensor_A)"
      ],
      "metadata": {
        "colab": {
          "base_uri": "https://localhost:8080/"
        },
        "id": "OTifDrPRPvNB",
        "outputId": "ff0ec0b5-b4ee-439f-aee4-85fb0ed6086f"
      },
      "execution_count": 13,
      "outputs": [
        {
          "output_type": "execute_result",
          "data": {
            "text/plain": [
              "tensor([4.0000, 2.5000, 2.0000])"
            ]
          },
          "metadata": {},
          "execution_count": 13
        }
      ]
    },
    {
      "cell_type": "markdown",
      "source": [
        "# Modulus"
      ],
      "metadata": {
        "id": "DlyK1-4HP3FZ"
      }
    },
    {
      "cell_type": "code",
      "source": [
        "tensor_B % tensor_A"
      ],
      "metadata": {
        "colab": {
          "base_uri": "https://localhost:8080/"
        },
        "id": "AfQxTVlrP7n5",
        "outputId": "ba57a9ec-6ae8-48b2-d4bb-a2fa29187444"
      },
      "execution_count": 14,
      "outputs": [
        {
          "output_type": "execute_result",
          "data": {
            "text/plain": [
              "tensor([0, 1, 0])"
            ]
          },
          "metadata": {},
          "execution_count": 14
        }
      ]
    },
    {
      "cell_type": "code",
      "source": [
        "torch.remainder(tensor_B,tensor_A)"
      ],
      "metadata": {
        "colab": {
          "base_uri": "https://localhost:8080/"
        },
        "id": "JtQBj-gFP7-A",
        "outputId": "9c965c9f-797a-4d5d-84cd-b907ba2fa4ad"
      },
      "execution_count": 16,
      "outputs": [
        {
          "output_type": "execute_result",
          "data": {
            "text/plain": [
              "tensor([0, 1, 0])"
            ]
          },
          "metadata": {},
          "execution_count": 16
        }
      ]
    },
    {
      "cell_type": "markdown",
      "source": [
        "#Exponencial"
      ],
      "metadata": {
        "id": "rKgJyf11QST4"
      }
    },
    {
      "cell_type": "code",
      "source": [
        "tensor_A ** tensor_B"
      ],
      "metadata": {
        "colab": {
          "base_uri": "https://localhost:8080/"
        },
        "id": "9gdULTmPQWsK",
        "outputId": "9c2c0c91-41e2-49ce-88f4-622cc777b85f"
      },
      "execution_count": 17,
      "outputs": [
        {
          "output_type": "execute_result",
          "data": {
            "text/plain": [
              "tensor([  1,  32, 729])"
            ]
          },
          "metadata": {},
          "execution_count": 17
        }
      ]
    },
    {
      "cell_type": "code",
      "source": [
        "tensor_A.pow(tensor_B)"
      ],
      "metadata": {
        "colab": {
          "base_uri": "https://localhost:8080/"
        },
        "id": "3Crd5F4bQXFZ",
        "outputId": "93907ba1-c3b2-46c8-a495-3e205de1c50f"
      },
      "execution_count": 18,
      "outputs": [
        {
          "output_type": "execute_result",
          "data": {
            "text/plain": [
              "tensor([  1,  32, 729])"
            ]
          },
          "metadata": {},
          "execution_count": 18
        }
      ]
    }
  ]
}